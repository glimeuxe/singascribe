{
 "cells": [
  {
   "cell_type": "code",
   "execution_count": 1,
   "metadata": {},
   "outputs": [
    {
     "name": "stdout",
     "output_type": "stream",
     "text": [
      "Adding 54863 new tokens\n"
     ]
    },
    {
     "data": {
      "application/vnd.jupyter.widget-view+json": {
       "model_id": "2e42f8c84399443faebe37acd8934b9f",
       "version_major": 2,
       "version_minor": 0
      },
      "text/plain": [
       "Map:   0%|          | 0/360 [00:00<?, ? examples/s]"
      ]
     },
     "metadata": {},
     "output_type": "display_data"
    },
    {
     "name": "stderr",
     "output_type": "stream",
     "text": [
      "The new embeddings will be initialized from a multivariate normal distribution that has old embeddings' mean and covariance. As described in this article: https://nlp.stanford.edu/~johnhew/vocab-expansion.html. To disable this, use `mean_resizing=False`\n"
     ]
    },
    {
     "data": {
      "text/html": [
       "\n",
       "    <div>\n",
       "      \n",
       "      <progress value='2' max='2' style='width:300px; height:20px; vertical-align: middle;'></progress>\n",
       "      [2/2 00:11, Epoch 0/1]\n",
       "    </div>\n",
       "    <table border=\"1\" class=\"dataframe\">\n",
       "  <thead>\n",
       " <tr style=\"text-align: left;\">\n",
       "      <th>Epoch</th>\n",
       "      <th>Training Loss</th>\n",
       "      <th>Validation Loss</th>\n",
       "    </tr>\n",
       "  </thead>\n",
       "  <tbody>\n",
       "    <tr>\n",
       "      <td>0</td>\n",
       "      <td>9.979000</td>\n",
       "      <td>9.490836</td>\n",
       "    </tr>\n",
       "  </tbody>\n",
       "</table><p>"
      ],
      "text/plain": [
       "<IPython.core.display.HTML object>"
      ]
     },
     "metadata": {},
     "output_type": "display_data"
    },
    {
     "name": "stderr",
     "output_type": "stream",
     "text": [
      "/Users/gregory/miniconda3/envs/Jupyter/lib/python3.11/site-packages/transformers/modeling_utils.py:2810: UserWarning: Moving the following attributes in the config to the generation config: {'max_length': 448, 'suppress_tokens': [1, 2, 7, 8, 9, 10, 14, 25, 26, 27, 28, 29, 31, 58, 59, 60, 61, 62, 63, 90, 91, 92, 93, 359, 503, 522, 542, 873, 893, 902, 918, 922, 931, 1350, 1853, 1982, 2460, 2627, 3246, 3253, 3268, 3536, 3846, 3961, 4183, 4667, 6585, 6647, 7273, 9061, 9383, 10428, 10929, 11938, 12033, 12331, 12562, 13793, 14157, 14635, 15265, 15618, 16553, 16604, 18362, 18956, 20075, 21675, 22520, 26130, 26161, 26435, 28279, 29464, 31650, 32302, 32470, 36865, 42863, 47425, 49870, 50254, 50258, 50358, 50359, 50360, 50361, 50362], 'begin_suppress_tokens': [220, 50257]}. You are seeing this warning because you've set generation parameters in the model config, as opposed to in the generation config.\n",
      "  warnings.warn(\n"
     ]
    },
    {
     "data": {
      "text/html": [
       "\n",
       "    <div>\n",
       "      \n",
       "      <progress value='36' max='36' style='width:300px; height:20px; vertical-align: middle;'></progress>\n",
       "      [36/36 00:15]\n",
       "    </div>\n",
       "    "
      ],
      "text/plain": [
       "<IPython.core.display.HTML object>"
      ]
     },
     "metadata": {},
     "output_type": "display_data"
    },
    {
     "name": "stdout",
     "output_type": "stream",
     "text": [
      "{'eval_loss': 9.634716033935547, 'eval_model_preparation_time': 0.0012, 'eval_runtime': 15.9193, 'eval_samples_per_second': 4.523, 'eval_steps_per_second': 2.261}\n"
     ]
    }
   ],
   "source": [
    "import chardet\n",
    "import os\n",
    "import pandas as pd\n",
    "import torch\n",
    "import torchaudio.transforms as T\n",
    "from dataclasses import dataclass\n",
    "from datasets import load_dataset, Dataset, Audio\n",
    "from torch.utils.data import DataLoader\n",
    "from transformers import TrainerCallback, TrainingArguments, Trainer, WhisperForConditionalGeneration, WhisperProcessor\n",
    "from typing import Any, Dict, List, Union\n",
    "\n",
    "DEVICE = torch.device(\"cuda\" if torch.cuda.is_available() else \"cpu\")\n",
    "\n",
    "MODEL_BRAND = \"openai/whisper-tiny\"\n",
    "MODEL_PROCESSOR = WhisperProcessor.from_pretrained(MODEL_BRAND)\n",
    "\n",
    "ROOT_PATH = os.getcwd()\n",
    "\n",
    "MODELS_PATH = os.path.join(ROOT_PATH, \"models\")\n",
    "DATASET_PATH = os.path.join(ROOT_PATH, \"dataset\")\n",
    "INPUTS_PATH = os.path.join(ROOT_PATH, \"inputs\")\n",
    "\n",
    "LOG_PATH = os.path.join(MODELS_PATH, \"log\")\n",
    "LEXICON_PATH = os.path.join(DATASET_PATH, \"lexicon.txt\")\n",
    "AUDIO_PATH = os.path.join(DATASET_PATH, \"Channel0\", \"audio\")\n",
    "SCRIPTS_PATH = os.path.join(DATASET_PATH, \"Channel0\", \"scripts\")\n",
    "TRANSCRIPTIONS_PATH = os.path.join(DATASET_PATH, \"Channel0\", \"transcriptions.csv\")\n",
    "\n",
    "def add_new_tokens():\n",
    "\tglobal MODEL_PROCESSOR\n",
    "\tdataset_vocabulary_set = set()\n",
    "\twith open(LEXICON_PATH, \"r\", encoding=\"utf-8\") as f:\n",
    "\t\tfor lexicon_line in f:\n",
    "\t\t\tp = lexicon_line.strip().split(\"\\t\")\n",
    "\t\t\tif len(p) < 2:\n",
    "\t\t\t\tcontinue\n",
    "\t\t\tlexicon_word = p[0]\n",
    "\t\t\tdataset_vocabulary_set.add(lexicon_word)\n",
    "\tnew_tokens_list = list(dataset_vocabulary_set - set(MODEL_PROCESSOR.tokenizer.get_vocab().keys()))\n",
    "\tif new_tokens_list:\n",
    "\t\tprint(f\"Adding {len(new_tokens_list)} new tokens\")\n",
    "\t\tMODEL_PROCESSOR.tokenizer.add_tokens(new_tokens_list)\n",
    "\t\tMODEL_PROCESSOR.save_pretrained(MODELS_PATH)\n",
    "\t\tMODEL_PROCESSOR = WhisperProcessor.from_pretrained(MODELS_PATH)\n",
    "\telse:\n",
    "\t\tprint(\"No new tokens to add\")\n",
    "\n",
    "add_new_tokens()\n",
    "\n",
    "def detect_encoding(path):\n",
    "\twith open(path, \"rb\") as f:\n",
    "\t\treturn chardet.detect(f.read(100000))[\"encoding\"]\n",
    "\n",
    "def write_transcriptions():\n",
    "\ttranscriptions_list = []\n",
    "\tfor s in os.listdir(SCRIPTS_PATH):\n",
    "\t\tscript_path = os.path.join(SCRIPTS_PATH, s)\n",
    "\t\tscript_encoding = detect_encoding(script_path)\n",
    "\t\tif not script_encoding: continue\n",
    "\t\ttry:\n",
    "\t\t\twith open(script_path, \"r\", encoding=script_encoding) as f:\n",
    "\t\t\t\tscript_lines = f.readlines()\n",
    "\t\texcept Exception as e:\n",
    "\t\t\tcontinue\n",
    "\t\tfor script_line in script_lines:\n",
    "\t\t\tx = script_line.strip().split(\"\\t\")\n",
    "\t\t\tif len(x) != 2: continue\n",
    "\t\t\tidentifier, transcript = x\n",
    "\t\t\taudio_path = os.path.join(AUDIO_PATH, f\"{identifier}.WAV\")\n",
    "\t\t\tif os.path.exists(audio_path):\n",
    "\t\t\t\ttranscriptions_list.append({\"audio_path\": audio_path, \"transcript\": transcript})\n",
    "\tdf = pd.DataFrame(transcriptions_list)\n",
    "\tdf.to_csv(TRANSCRIPTIONS_PATH, index=False)\n",
    "\n",
    "def load_dataset():\n",
    "\ttranscriptions_df = pd.read_csv(TRANSCRIPTIONS_PATH)\n",
    "\ttranscriptions_df = transcriptions_df.head(360)\n",
    "\tX = Dataset.from_pandas(transcriptions_df)\n",
    "\tX = X.cast_column(\"audio_path\", Audio(sampling_rate=16000))\n",
    "\ttime_mask = T.TimeMasking(time_mask_param=80)\n",
    "\tfrequency_mask = T.FrequencyMasking(freq_mask_param=30)\n",
    "\n",
    "\tdef preprocess_transcriptions_batch(X):\n",
    "\t\tX[\"input_features\"] = frequency_mask(time_mask(\n",
    "\t\t\tMODEL_PROCESSOR(\n",
    "\t\t\t\tX[\"audio_path\"][\"array\"],\n",
    "\t\t\t\tsampling_rate=16000,\n",
    "\t\t\t\treturn_tensors=\"pt\"\n",
    "\t\t\t).input_features[0]\n",
    "\t\t))\n",
    "\t\tX[\"labels\"] = MODEL_PROCESSOR.tokenizer(\n",
    "\t\t\tX[\"transcript\"],\n",
    "\t\t\ttruncation=True,\n",
    "\t\t\tmax_length=448\n",
    "\t\t).input_ids\n",
    "\t\treturn X\n",
    "\n",
    "\tX = X.map(preprocess_transcriptions_batch, remove_columns=[\"audio_path\"])\n",
    "\tX1 = X.train_test_split(test_size=0.2, seed=37)\n",
    "\tX2 = X1[\"train\"].train_test_split(test_size=0.125, seed=37)\n",
    "\treturn X2[\"train\"], X2[\"test\"], X1[\"test\"]\n",
    "\n",
    "@dataclass\n",
    "class DataCollatorSpeechSeq2SeqWithPadding:\n",
    "\tprocessor: Any\n",
    "\tdef __call__(self, features: List[Dict[str, Union[List[int], torch.Tensor]]]) -> Dict[str, torch.Tensor]:\n",
    "\t\tB = self.processor.feature_extractor.pad([{\"input_features\": feature[\"input_features\"]} for feature in features], return_tensors=\"pt\")\n",
    "\t\tL = self.processor.tokenizer.pad([{\"input_ids\": feature[\"labels\"]} for feature in features], return_tensors=\"pt\", padding=True)\n",
    "\t\tB[\"labels\"] = L[\"input_ids\"].masked_fill(L.attention_mask.ne(1), -100)\n",
    "\t\treturn B\n",
    "\n",
    "class LossLoggerCallback(TrainerCallback):\n",
    "\tdef __init__(self, log_path):\n",
    "\t\tself.log_path = log_path\n",
    "\tdef on_log(self, args, state, control, logs=None, **kwargs):\n",
    "\t\tif not logs: return\n",
    "\t\tloss_info = f\"Step {state.global_step}: \"\n",
    "\t\tif \"loss\" in logs:\n",
    "\t\t\tloss_info += f\"Training Loss = {logs['loss']} \"\n",
    "\t\tif \"eval_loss\" in logs:\n",
    "\t\t\tloss_info += f\"Validation Loss = {logs['eval_loss']} \"\n",
    "\t\tif \"loss\" in logs or \"eval_loss\" in logs:\n",
    "\t\t\twith open(self.log_path, \"a\") as f:\n",
    "\t\t\t\tf.write(loss_info.strip() + \"\\n\")\n",
    "\n",
    "def finetune_model(X_train, X_val):\n",
    "\tmodel = WhisperForConditionalGeneration.from_pretrained(MODEL_BRAND).to(DEVICE)\n",
    "\tmodel.resize_token_embeddings(len(MODEL_PROCESSOR.tokenizer))\n",
    "\tmodel.config.use_cache = False\n",
    "\tdata_collator = DataCollatorSpeechSeq2SeqWithPadding(processor=MODEL_PROCESSOR)\n",
    "\ttrainer = Trainer(\n",
    "\t\tmodel=model,\n",
    "\t\targs=TrainingArguments(\n",
    "\t\t\toutput_dir=MODELS_PATH,\n",
    "\t\t\tper_device_train_batch_size=2,\n",
    "\t\t\tper_device_eval_batch_size=2,\n",
    "\t\t\tnum_train_epochs=2,\n",
    "\t\t\tmax_steps=-1,\n",
    "\t\t\teval_strategy=\"epoch\",\n",
    "\t\t\tsave_strategy=\"epoch\",\n",
    "\t\t\tlogging_dir=MODELS_PATH,\n",
    "\t\t\treport_to=\"none\",\n",
    "\t\t\tlogging_strategy=\"epoch\",\n",
    "\t\t),\n",
    "\t\ttrain_dataset=X_train,\n",
    "\t\teval_dataset=X_val,\n",
    "\t\tdata_collator=data_collator,\n",
    "\t)\n",
    "\ttrainer.add_callback(LossLoggerCallback(LOG_PATH))\n",
    "\ttrainer.train()\n",
    "\ttrainer.save_model(MODELS_PATH)\n",
    "\n",
    "def evaluate_model(X_test):\n",
    "\tmodel = WhisperForConditionalGeneration.from_pretrained(MODELS_PATH).to(DEVICE)\n",
    "\tdata_collator = DataCollatorSpeechSeq2SeqWithPadding(processor=MODEL_PROCESSOR)\n",
    "\ttrainer = Trainer(\n",
    "\t\tmodel=model,\n",
    "\t\targs=TrainingArguments(\n",
    "\t\t\toutput_dir=MODELS_PATH,\n",
    "\t\t\tper_device_eval_batch_size=2,\n",
    "\t\t\treport_to=\"none\",\n",
    "\t\t),\n",
    "\t\teval_dataset=X_test,\n",
    "\t\tdata_collator=data_collator,\n",
    "\t)\n",
    "\tmetrics = trainer.evaluate()\n",
    "\tprint(metrics)\n",
    "\n",
    "write_transcriptions()\n",
    "X_train, X_valid, X_test = load_dataset()\n",
    "finetune_model(X_train, X_valid)\n",
    "evaluate_model(X_test)\n",
    "\n",
    "def transcribe_audio():\n",
    "\tmodel = WhisperForConditionalGeneration.from_pretrained(os.path.join(MODELS_PATH, \"checkpoint-2\")).to(DEVICE)\n",
    "\tfor a in [f for f in os.listdir(INPUTS_PATH) if f.lower().endswith((\".wav\", \".mp3\", \".flac\"))]:\n",
    "\t\tinput_audio_path = os.path.join(INPUTS_PATH, a)\n",
    "\t\tinput_audio = Audio(sampling_rate=16000).decode_example({\"path\": input_audio_path})\n",
    "\t\tinput_audio_features = MODEL_PROCESSOR(audio[\"array\"], sampling_rate=16000, return_tensors=\"pt\").input_features.to(DEVICE)\n",
    "\t\twith torch.no_grad():\n",
    "\t\t\tpredicted_token_ids_tensor = model.generate(input_audio_features)\n",
    "\t\ttranscription = MODEL_PROCESSOR.tokenizer.batch_decode(predicted_token_ids_tensor, skip_special_tokens=True)[0]\n",
    "\t\tprint(f\"{input_audio_path}: {transcription}\")"
   ]
  },
  {
   "cell_type": "code",
   "execution_count": 3,
   "metadata": {},
   "outputs": [
    {
     "name": "stdout",
     "output_type": "stream",
     "text": [
      "True\n"
     ]
    }
   ],
   "source": [
    "def in_vocabulary(word):\n",
    "\tt = MODEL_PROCESSOR.tokenizer(word, add_special_tokens=False).input_ids\n",
    "\treturn len(t) == 1 and t[0] in MODEL_PROCESSOR.tokenizer.get_vocab().values()\n",
    "\n",
    "print(in_vocabulary(\"lah\"))"
   ]
  }
 ],
 "metadata": {
  "kernelspec": {
   "display_name": "Jupyter",
   "language": "python",
   "name": "jupyter"
  },
  "language_info": {
   "codemirror_mode": {
    "name": "ipython",
    "version": 3
   },
   "file_extension": ".py",
   "mimetype": "text/x-python",
   "name": "python",
   "nbconvert_exporter": "python",
   "pygments_lexer": "ipython3",
   "version": "3.11.11"
  }
 },
 "nbformat": 4,
 "nbformat_minor": 2
}
