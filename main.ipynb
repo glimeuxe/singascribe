{
 "cells": [
  {
   "cell_type": "code",
   "execution_count": 3,
   "metadata": {},
   "outputs": [
    {
     "name": "stdout",
     "output_type": "stream",
     "text": [
      "Adding 54863 new tokens\n"
     ]
    },
    {
     "data": {
      "application/vnd.jupyter.widget-view+json": {
       "model_id": "2f2704a0a06445bd8b7a3b49bd806be9",
       "version_major": 2,
       "version_minor": 0
      },
      "text/plain": [
       "Map:   0%|          | 0/120 [00:00<?, ? examples/s]"
      ]
     },
     "metadata": {},
     "output_type": "display_data"
    },
    {
     "name": "stderr",
     "output_type": "stream",
     "text": [
      "The new embeddings will be initialized from a multivariate normal distribution that has old embeddings' mean and covariance. As described in this article: https://nlp.stanford.edu/~johnhew/vocab-expansion.html. To disable this, use `mean_resizing=False`\n"
     ]
    },
    {
     "data": {
      "text/html": [
       "\n",
       "    <div>\n",
       "      \n",
       "      <progress value='42' max='42' style='width:300px; height:20px; vertical-align: middle;'></progress>\n",
       "      [42/42 00:32, Epoch 1/1]\n",
       "    </div>\n",
       "    <table border=\"1\" class=\"dataframe\">\n",
       "  <thead>\n",
       " <tr style=\"text-align: left;\">\n",
       "      <th>Epoch</th>\n",
       "      <th>Training Loss</th>\n",
       "      <th>Validation Loss</th>\n",
       "    </tr>\n",
       "  </thead>\n",
       "  <tbody>\n",
       "    <tr>\n",
       "      <td>1</td>\n",
       "      <td>5.352800</td>\n",
       "      <td>4.435731</td>\n",
       "    </tr>\n",
       "  </tbody>\n",
       "</table><p>"
      ],
      "text/plain": [
       "<IPython.core.display.HTML object>"
      ]
     },
     "metadata": {},
     "output_type": "display_data"
    },
    {
     "name": "stderr",
     "output_type": "stream",
     "text": [
      "/Users/gregory/miniconda3/envs/Jupyter/lib/python3.11/site-packages/transformers/modeling_utils.py:2810: UserWarning: Moving the following attributes in the config to the generation config: {'max_length': 448, 'suppress_tokens': [1, 2, 7, 8, 9, 10, 14, 25, 26, 27, 28, 29, 31, 58, 59, 60, 61, 62, 63, 90, 91, 92, 93, 359, 503, 522, 542, 873, 893, 902, 918, 922, 931, 1350, 1853, 1982, 2460, 2627, 3246, 3253, 3268, 3536, 3846, 3961, 4183, 4667, 6585, 6647, 7273, 9061, 9383, 10428, 10929, 11938, 12033, 12331, 12562, 13793, 14157, 14635, 15265, 15618, 16553, 16604, 18362, 18956, 20075, 21675, 22520, 26130, 26161, 26435, 28279, 29464, 31650, 32302, 32470, 36865, 42863, 47425, 49870, 50254, 50258, 50358, 50359, 50360, 50361, 50362], 'begin_suppress_tokens': [220, 50257]}. You are seeing this warning because you've set generation parameters in the model config, as opposed to in the generation config.\n",
      "  warnings.warn(\n"
     ]
    },
    {
     "data": {
      "text/html": [
       "\n",
       "    <div>\n",
       "      \n",
       "      <progress value='12' max='12' style='width:300px; height:20px; vertical-align: middle;'></progress>\n",
       "      [12/12 00:02]\n",
       "    </div>\n",
       "    "
      ],
      "text/plain": [
       "<IPython.core.display.HTML object>"
      ]
     },
     "metadata": {},
     "output_type": "display_data"
    },
    {
     "name": "stderr",
     "output_type": "stream",
     "text": [
      "The attention mask is not set and cannot be inferred from input because pad token is same as eos token. As a consequence, you may observe unexpected behavior. Please pass your input's `attention_mask` to obtain reliable results.\n"
     ]
    },
    {
     "name": "stdout",
     "output_type": "stream",
     "text": [
      "{'eval_loss': 4.587049961090088, 'eval_model_preparation_time': 0.0008, 'eval_runtime': 2.714, 'eval_samples_per_second': 8.843, 'eval_steps_per_second': 4.422}\n",
      "/Users/gregory/Code/SingaScribe/inputs/there_were_barrels_of_wine_in_the_huge_cellar.WAV:  There were barrels of white in the  sselow\n",
      "/Users/gregory/Code/SingaScribe/inputs/i_was_so_tired_from_work_i_could_not_even_bother_to_brush_my_teeth.WAV:  I was so tired from work i could not even bother to brush my teeth\n",
      "True\n"
     ]
    }
   ],
   "source": [
    "import os\n",
    "import pandas as pd\n",
    "import torch\n",
    "import torchaudio\n",
    "import torchaudio.transforms as T\n",
    "from dataclasses import dataclass\n",
    "from datasets import load_dataset, Dataset, Audio\n",
    "from torch.utils.data import DataLoader\n",
    "from transformers import TrainerCallback, TrainingArguments, Trainer, WhisperForConditionalGeneration, WhisperProcessor\n",
    "from typing import Any, Dict, List, Union\n",
    "from utils import determine_functions, detect_encoding, LossLoggerCallback\n",
    "\n",
    "DEVICE = torch.device(\"cuda\" if torch.cuda.is_available() else \"cpu\")\n",
    "SEED = 37\n",
    "\n",
    "MODEL_BRAND = \"openai/whisper-tiny\"\n",
    "MODEL_PROCESSOR = WhisperProcessor.from_pretrained(MODEL_BRAND)\n",
    "\n",
    "ROOT_PATH = os.getcwd()\n",
    "MODELS_PATH = os.path.join(ROOT_PATH, \"models\")\n",
    "DATASET_PATH = os.path.join(ROOT_PATH, \"dataset\")\n",
    "INPUTS_PATH = os.path.join(ROOT_PATH, \"inputs\")\n",
    "\n",
    "LOG_PATH = os.path.join(MODELS_PATH, \"log\")\n",
    "LEXICON_PATH = os.path.join(DATASET_PATH, \"lexicon.txt\")\n",
    "AUDIO_PATH = os.path.join(DATASET_PATH, \"Channel0\", \"audio\")\n",
    "SCRIPTS_PATH = os.path.join(DATASET_PATH, \"Channel0\", \"scripts\")\n",
    "TRANSCRIPTIONS_PATH = os.path.join(DATASET_PATH, \"Channel0\", \"transcriptions.csv\")\n",
    "\n",
    "def add_new_tokens():\n",
    "\tglobal MODEL_PROCESSOR\n",
    "\tdataset_vocabulary_set = set()\n",
    "\twith open(LEXICON_PATH, \"r\", encoding=\"utf-8\") as f:\n",
    "\t\tfor lexicon_line in f:\n",
    "\t\t\tp = lexicon_line.strip().split(\"\\t\")\n",
    "\t\t\tif len(p) < 2:\n",
    "\t\t\t\tcontinue\n",
    "\t\t\tlexicon_word = p[0]\n",
    "\t\t\tdataset_vocabulary_set.add(lexicon_word)\n",
    "\tnew_tokens_list = list(dataset_vocabulary_set - set(MODEL_PROCESSOR.tokenizer.get_vocab().keys()))\n",
    "\tif new_tokens_list:\n",
    "\t\tprint(f\"Adding {len(new_tokens_list)} new tokens\")\n",
    "\t\tMODEL_PROCESSOR.tokenizer.add_tokens(new_tokens_list)\n",
    "\t\tMODEL_PROCESSOR.save_pretrained(MODELS_PATH)\n",
    "\t\tMODEL_PROCESSOR = WhisperProcessor.from_pretrained(MODELS_PATH)\n",
    "\telse:\n",
    "\t\tprint(\"No new tokens to add\")\n",
    "\n",
    "def write_transcriptions():\n",
    "\ttranscriptions_list = []\n",
    "\tfor s in os.listdir(SCRIPTS_PATH):\n",
    "\t\tscript_path = os.path.join(SCRIPTS_PATH, s)\n",
    "\t\tscript_encoding = detect_encoding(script_path)\n",
    "\t\tif not script_encoding: continue\n",
    "\t\ttry:\n",
    "\t\t\twith open(script_path, \"r\", encoding=script_encoding) as f:\n",
    "\t\t\t\tscript_lines = f.readlines()\n",
    "\t\texcept Exception as e:\n",
    "\t\t\tcontinue\n",
    "\t\tfor script_line in script_lines:\n",
    "\t\t\tx = script_line.strip().split(\"\\t\")\n",
    "\t\t\tif len(x) != 2: continue\n",
    "\t\t\tidentifier, transcript = x\n",
    "\t\t\taudio_path = os.path.join(AUDIO_PATH, f\"{identifier}.WAV\")\n",
    "\t\t\tif os.path.exists(audio_path):\n",
    "\t\t\t\ttranscriptions_list.append({\"audio_path\": audio_path, \"transcript\": transcript})\n",
    "\tdf = pd.DataFrame(transcriptions_list)\n",
    "\tdf.to_csv(TRANSCRIPTIONS_PATH, index=False)\n",
    "\n",
    "def load_dataset():\n",
    "\ttranscriptions_df = pd.read_csv(TRANSCRIPTIONS_PATH)\n",
    "\ttranscriptions_df = transcriptions_df.head(120)\n",
    "\tX = Dataset.from_pandas(transcriptions_df)\n",
    "\tX = X.cast_column(\"audio_path\", Audio(sampling_rate=16000))\n",
    "\ttime_mask = T.TimeMasking(time_mask_param=80)\n",
    "\tfrequency_mask = T.FrequencyMasking(freq_mask_param=30)\n",
    "\n",
    "\tdef preprocess_transcriptions_batch(X):\n",
    "\t\tX[\"input_features\"] = frequency_mask(time_mask(\n",
    "\t\t\tMODEL_PROCESSOR(\n",
    "\t\t\t\tX[\"audio_path\"][\"array\"],\n",
    "\t\t\t\tsampling_rate=16000,\n",
    "\t\t\t\treturn_tensors=\"pt\"\n",
    "\t\t\t).input_features[0]\n",
    "\t\t))\n",
    "\t\tX[\"labels\"] = MODEL_PROCESSOR.tokenizer(\n",
    "\t\t\tX[\"transcript\"],\n",
    "\t\t\ttruncation=True,\n",
    "\t\t\tmax_length=448\n",
    "\t\t).input_ids\n",
    "\t\treturn X\n",
    "\n",
    "\tX = X.map(preprocess_transcriptions_batch, remove_columns=[\"audio_path\"])\n",
    "\tX1 = X.train_test_split(test_size=0.2, seed=SEED)\n",
    "\tX2 = X1[\"train\"].train_test_split(test_size=0.125, seed=SEED)\n",
    "\treturn X2[\"train\"], X2[\"test\"], X1[\"test\"]\n",
    "\n",
    "@dataclass\n",
    "class DataCollatorSpeechSeq2SeqWithPadding:\n",
    "\tprocessor: Any\n",
    "\tdef __call__(self, features: List[Dict[str, Union[List[int], torch.Tensor]]]) -> Dict[str, torch.Tensor]:\n",
    "\t\tB = self.processor.feature_extractor.pad([{\"input_features\": feature[\"input_features\"]} for feature in features], return_tensors=\"pt\")\n",
    "\t\tL = self.processor.tokenizer.pad([{\"input_ids\": feature[\"labels\"]} for feature in features], return_tensors=\"pt\", padding=True)\n",
    "\t\tB[\"labels\"] = L[\"input_ids\"].masked_fill(L.attention_mask.ne(1), -100)\n",
    "\t\treturn B\n",
    "\n",
    "def finetune_model(X_train, X_val):\n",
    "\tmodel = WhisperForConditionalGeneration.from_pretrained(MODEL_BRAND).to(DEVICE)\n",
    "\tmodel.resize_token_embeddings(len(MODEL_PROCESSOR.tokenizer))\n",
    "\tmodel.config.use_cache = False\n",
    "\tmodel.config.forced_decoder_ids = MODEL_PROCESSOR.tokenizer.get_decoder_prompt_ids(language=\"en\", task=\"transcribe\", no_timestamps=True)\n",
    "\ttrainer = Trainer(\n",
    "\t\targs=TrainingArguments(\n",
    "\t\t\teval_strategy=\"epoch\",\n",
    "\t\t\tlogging_dir=MODELS_PATH,\n",
    "\t\t\tlogging_strategy=\"epoch\",\n",
    "\t\t\tmax_steps=-1,\n",
    "\t\t\tnum_train_epochs=1,\n",
    "\t\t\toutput_dir=MODELS_PATH,\n",
    "\t\t\tper_device_eval_batch_size=2,\n",
    "\t\t\tper_device_train_batch_size=2,\n",
    "\t\t\treport_to=\"none\",\n",
    "\t\t\tsave_strategy=\"epoch\",\n",
    "\t\t),\n",
    "\t\tdata_collator=DataCollatorSpeechSeq2SeqWithPadding(processor=MODEL_PROCESSOR),\n",
    "\t\teval_dataset=X_val,\n",
    "\t\tmodel=model,\n",
    "\t\ttrain_dataset=X_train,\n",
    "\t)\n",
    "\ttrainer.add_callback(LossLoggerCallback(LOG_PATH))\n",
    "\ttrainer.train()\n",
    "\ttrainer.save_model(MODELS_PATH)\n",
    "\tMODEL_PROCESSOR.tokenizer.save_pretrained(MODELS_PATH)\n",
    "\n",
    "def evaluate_model(X_test):\n",
    "\tmodel = WhisperForConditionalGeneration.from_pretrained(MODELS_PATH).to(DEVICE)\n",
    "\ttrainer = Trainer(\n",
    "\t\targs=TrainingArguments(\n",
    "\t\t\toutput_dir=MODELS_PATH,\n",
    "\t\t\tper_device_eval_batch_size=2,\n",
    "\t\t\treport_to=\"none\",\n",
    "\t\t),\n",
    "\t\tdata_collator=DataCollatorSpeechSeq2SeqWithPadding(processor=MODEL_PROCESSOR),\n",
    "\t\teval_dataset=X_test,\n",
    "\t\tmodel=model,\n",
    "\t)\n",
    "\tprint(trainer.evaluate())\n",
    "\n",
    "determine_functions(SEED)\n",
    "add_new_tokens()\n",
    "write_transcriptions()\n",
    "X_train, X_val, X_test = load_dataset()\n",
    "finetune_model(X_train, X_val)\n",
    "evaluate_model(X_test)\n",
    "\n",
    "def transcribe_audio():\n",
    "\tglobal MODEL_PROCESSOR\n",
    "\n",
    "\tmodel = WhisperForConditionalGeneration.from_pretrained(MODELS_PATH).to(DEVICE)\n",
    "\tMODEL_PROCESSOR.tokenizer.pad_token = MODEL_PROCESSOR.tokenizer.eos_token\n",
    "\n",
    "\tfor a in [f for f in os.listdir(INPUTS_PATH) if f.lower().endswith((\".wav\", \".mp3\", \".flac\"))]:\n",
    "\t\tinput_audio_path = os.path.join(INPUTS_PATH, a)\n",
    "\t\tinput_waveform, input_sample_rate = torchaudio.load(input_audio_path)\n",
    "\t\tif input_sample_rate != 16000:\n",
    "\t\t\ttransform = torchaudio.transforms.Resample(orig_freq=input_sample_rate, new_freq=16000)\n",
    "\t\t\tinput_waveform = transform(input_waveform)\n",
    "\t\tinput_audio_features = MODEL_PROCESSOR(\n",
    "\t\t\tinput_waveform.numpy().squeeze(), sampling_rate=16000, return_tensors=\"pt\"\n",
    "\t\t).input_features.to(DEVICE)\n",
    "\t\twith torch.no_grad():\n",
    "\t\t\tpredicted_token_ids_tensor = model.generate(input_audio_features, forced_decoder_ids=MODEL_PROCESSOR.tokenizer.get_decoder_prompt_ids(language=\"en\"))\n",
    "\n",
    "\t\tprint(f\"{input_audio_path}: {MODEL_PROCESSOR.tokenizer.batch_decode(predicted_token_ids_tensor, skip_special_tokens=True)[0]}\")\n",
    "\n",
    "transcribe_audio()\n",
    "print(not(MODEL_PROCESSOR.tokenizer.get_vocab().get(\"lah\") is None))"
   ]
  }
 ],
 "metadata": {
  "kernelspec": {
   "display_name": "Jupyter",
   "language": "python",
   "name": "jupyter"
  },
  "language_info": {
   "codemirror_mode": {
    "name": "ipython",
    "version": 3
   },
   "file_extension": ".py",
   "mimetype": "text/x-python",
   "name": "python",
   "nbconvert_exporter": "python",
   "pygments_lexer": "ipython3",
   "version": "3.11.11"
  }
 },
 "nbformat": 4,
 "nbformat_minor": 2
}
